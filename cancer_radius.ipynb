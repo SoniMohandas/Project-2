{
 "cells": [
  {
   "cell_type": "code",
   "execution_count": 8,
   "metadata": {},
   "outputs": [],
   "source": [
    "# Dependencies\n",
    "\n",
    "import matplotlib.pyplot as plt\n",
    "import pandas as pd\n",
    "import numpy as np\n",
    "\n",
    "data_path=\"Resources/data.csv\"\n",
    "tumor_df = pd.read_csv(data_path, delimiter=\",\")"
   ]
  },
  {
   "cell_type": "code",
   "execution_count": 9,
   "metadata": {},
   "outputs": [
    {
     "data": {
      "text/plain": [
       "569"
      ]
     },
     "execution_count": 9,
     "metadata": {},
     "output_type": "execute_result"
    }
   ],
   "source": [
    "len(tumor_df)"
   ]
  },
  {
   "cell_type": "code",
   "execution_count": 10,
   "metadata": {},
   "outputs": [
    {
     "data": {
      "text/plain": [
       "array([[<AxesSubplot:title={'center':'radius_mean'}>]], dtype=object)"
      ]
     },
     "execution_count": 10,
     "metadata": {},
     "output_type": "execute_result"
    },
    {
     "data": {
      "image/png": "[encoded data removed]",
      "text/plain": [
       "<Figure size 432x288 with 1 Axes>"
      ]
     },
     "metadata": {
      "needs_background": "light"
     },
     "output_type": "display_data"
    }
   ],
   "source": [
    "tumor_df.hist(\"radius_mean\")"
   ]
  },
  {
   "cell_type": "code",
   "execution_count": 11,
   "metadata": {},
   "outputs": [
    {
     "data": {
      "text/plain": [
       "[11.366, 12.726, 14.058000000000002, 17.067999999999998, 28.11]"
      ]
     },
     "execution_count": 11,
     "metadata": {},
     "output_type": "execute_result"
    }
   ],
   "source": [
    "percent_list=list(np.percentile(tumor_df.radius_mean,[20,40,60,80,100]))\n",
    "percent_list"
   ]
  },
  {
   "cell_type": "code",
   "execution_count": 14,
   "metadata": {},
   "outputs": [],
   "source": [
    "df1=tumor_df.loc[tumor_df.radius_mean<11.366]\n",
    "df1.to_csv(r\"C:\\\\Users\\Soni Mohandas\\Documents\\BootCamp\\Project-2\\tumor1.csv\", index=False)\n",
    "df2=tumor_df.loc[(tumor_df.radius_mean>=11.366) & (tumor_df.radius_mean<12.726)]\n",
    "df2.to_csv(r\"C:\\\\Users\\Soni Mohandas\\Documents\\BootCamp\\Project-2\\tumor2.csv\", index=False)\n",
    "df3=tumor_df.loc[(tumor_df.radius_mean>=12.726) & (tumor_df.radius_mean<14.058)]\n",
    "df3.to_csv(r\"C:\\\\Users\\Soni Mohandas\\Documents\\BootCamp\\Project-2\\tumor3.csv\", index=False)\n",
    "df4=tumor_df.loc[(tumor_df.radius_mean>=14.058) & (tumor_df.radius_mean<17.0679)]\n",
    "df4.to_csv(r\"C:\\\\Users\\Soni Mohandas\\Documents\\BootCamp\\Project-2\\tumor4.csv\",index=False)\n",
    "df5=tumor_df.loc[tumor_df.radius_mean>=17.0679]\n",
    "df5.to_csv(r\"C:\\\\Users\\Soni Mohandas\\Documents\\BootCamp\\Project-2\\tumor5.csv\", index=False)"
   ]
  },
  {
   "cell_type": "code",
   "execution_count": null,
   "metadata": {},
   "outputs": [],
   "source": []
  },
  {
   "cell_type": "code",
   "execution_count": null,
   "metadata": {},
   "outputs": [],
   "source": []
  }
 ],
 "metadata": {
  "kernelspec": {
   "display_name": "Python 3",
   "language": "python",
   "name": "python3"
  },
  "language_info": {
   "codemirror_mode": {
    "name": "ipython",
    "version": 3
   },
   "file_extension": ".py",
   "mimetype": "text/x-python",
   "name": "python",
   "nbconvert_exporter": "python",
   "pygments_lexer": "ipython3",
   "version": "3.8.5"
  }
 },
 "nbformat": 4,
 "nbformat_minor": 4
}
