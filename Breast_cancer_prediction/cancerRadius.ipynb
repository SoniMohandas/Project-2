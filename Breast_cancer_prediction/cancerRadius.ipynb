{
 "cells": [
  {
   "cell_type": "code",
   "execution_count": 90,
   "metadata": {},
   "outputs": [],
   "source": [
    "from pymongo import MongoClient\n",
    "import json\n",
    "import pandas as pd\n",
    "import numpy as np"
   ]
  },
  {
   "cell_type": "code",
   "execution_count": 91,
   "metadata": {},
   "outputs": [
    {
     "data": {
      "text/html": [
       "<div>\n",
       "<style scoped>\n",
       "    .dataframe tbody tr th:only-of-type {\n",
       "        vertical-align: middle;\n",
       "    }\n",
       "\n",
       "    .dataframe tbody tr th {\n",
       "        vertical-align: top;\n",
       "    }\n",
       "\n",
       "    .dataframe thead th {\n",
       "        text-align: right;\n",
       "    }\n",
       "</style>\n",
       "<table border=\"1\" class=\"dataframe\">\n",
       "  <thead>\n",
       "    <tr style=\"text-align: right;\">\n",
       "      <th></th>\n",
       "      <th>id</th>\n",
       "      <th>diagnosis</th>\n",
       "      <th>radius_mean</th>\n",
       "      <th>texture_mean</th>\n",
       "      <th>perimeter_mean</th>\n",
       "      <th>area_mean</th>\n",
       "      <th>smoothness_mean</th>\n",
       "      <th>compactness_mean</th>\n",
       "      <th>concavity_mean</th>\n",
       "      <th>concave points_mean</th>\n",
       "      <th>...</th>\n",
       "      <th>texture_worst</th>\n",
       "      <th>perimeter_worst</th>\n",
       "      <th>area_worst</th>\n",
       "      <th>smoothness_worst</th>\n",
       "      <th>compactness_worst</th>\n",
       "      <th>concavity_worst</th>\n",
       "      <th>concave points_worst</th>\n",
       "      <th>symmetry_worst</th>\n",
       "      <th>fractal_dimension_worst</th>\n",
       "      <th>Unnamed: 32</th>\n",
       "    </tr>\n",
       "  </thead>\n",
       "  <tbody>\n",
       "    <tr>\n",
       "      <th>0</th>\n",
       "      <td>842302</td>\n",
       "      <td>M</td>\n",
       "      <td>17.99</td>\n",
       "      <td>10.38</td>\n",
       "      <td>122.8</td>\n",
       "      <td>1001.0</td>\n",
       "      <td>0.11840</td>\n",
       "      <td>0.27760</td>\n",
       "      <td>0.3001</td>\n",
       "      <td>0.14710</td>\n",
       "      <td>...</td>\n",
       "      <td>17.33</td>\n",
       "      <td>184.6</td>\n",
       "      <td>2019.0</td>\n",
       "      <td>0.1622</td>\n",
       "      <td>0.6656</td>\n",
       "      <td>0.7119</td>\n",
       "      <td>0.2654</td>\n",
       "      <td>0.4601</td>\n",
       "      <td>0.11890</td>\n",
       "      <td>NaN</td>\n",
       "    </tr>\n",
       "    <tr>\n",
       "      <th>1</th>\n",
       "      <td>842517</td>\n",
       "      <td>M</td>\n",
       "      <td>20.57</td>\n",
       "      <td>17.77</td>\n",
       "      <td>132.9</td>\n",
       "      <td>1326.0</td>\n",
       "      <td>0.08474</td>\n",
       "      <td>0.07864</td>\n",
       "      <td>0.0869</td>\n",
       "      <td>0.07017</td>\n",
       "      <td>...</td>\n",
       "      <td>23.41</td>\n",
       "      <td>158.8</td>\n",
       "      <td>1956.0</td>\n",
       "      <td>0.1238</td>\n",
       "      <td>0.1866</td>\n",
       "      <td>0.2416</td>\n",
       "      <td>0.1860</td>\n",
       "      <td>0.2750</td>\n",
       "      <td>0.08902</td>\n",
       "      <td>NaN</td>\n",
       "    </tr>\n",
       "  </tbody>\n",
       "</table>\n",
       "<p>2 rows × 33 columns</p>\n",
       "</div>"
      ],
      "text/plain": [
       "       id diagnosis  radius_mean  texture_mean  perimeter_mean  area_mean  \\\n",
       "0  842302         M        17.99         10.38           122.8     1001.0   \n",
       "1  842517         M        20.57         17.77           132.9     1326.0   \n",
       "\n",
       "   smoothness_mean  compactness_mean  concavity_mean  concave points_mean  \\\n",
       "0          0.11840           0.27760          0.3001              0.14710   \n",
       "1          0.08474           0.07864          0.0869              0.07017   \n",
       "\n",
       "   ...  texture_worst  perimeter_worst  area_worst  smoothness_worst  \\\n",
       "0  ...          17.33            184.6      2019.0            0.1622   \n",
       "1  ...          23.41            158.8      1956.0            0.1238   \n",
       "\n",
       "   compactness_worst  concavity_worst  concave points_worst  symmetry_worst  \\\n",
       "0             0.6656           0.7119                0.2654          0.4601   \n",
       "1             0.1866           0.2416                0.1860          0.2750   \n",
       "\n",
       "   fractal_dimension_worst  Unnamed: 32  \n",
       "0                  0.11890          NaN  \n",
       "1                  0.08902          NaN  \n",
       "\n",
       "[2 rows x 33 columns]"
      ]
     },
     "execution_count": 91,
     "metadata": {},
     "output_type": "execute_result"
    }
   ],
   "source": [
    "df = pd.read_csv('Resources/data.csv')\n",
    "df.head(2)"
   ]
  },
  {
   "cell_type": "code",
   "execution_count": 92,
   "metadata": {},
   "outputs": [],
   "source": [
    "df.drop(columns='Unnamed: 32', inplace = True)"
   ]
  },
  {
   "cell_type": "code",
   "execution_count": 93,
   "metadata": {},
   "outputs": [
    {
     "data": {
      "text/plain": [
       "array([[<AxesSubplot:title={'center':'radius_mean'}>]], dtype=object)"
      ]
     },
     "execution_count": 93,
     "metadata": {},
     "output_type": "execute_result"
    },
    {
     "data": {
      "image/png": "[encoded data removed]",
      "text/plain": [
       "<Figure size 432x288 with 1 Axes>"
      ]
     },
     "metadata": {
      "needs_background": "light"
     },
     "output_type": "display_data"
    }
   ],
   "source": [
    "df.hist('radius_mean')"
   ]
  },
  {
   "cell_type": "code",
   "execution_count": 94,
   "metadata": {},
   "outputs": [],
   "source": [
    "precentile_list=list(np.percentile(df.radius_mean, [20,40,60,80,100]))"
   ]
  },
  {
   "cell_type": "code",
   "execution_count": 95,
   "metadata": {},
   "outputs": [
    {
     "data": {
      "text/plain": [
       "[11.366, 12.726, 14.058000000000002, 17.067999999999998, 28.11]"
      ]
     },
     "execution_count": 95,
     "metadata": {},
     "output_type": "execute_result"
    }
   ],
   "source": [
    "percentile_list"
   ]
  },
  {
   "cell_type": "code",
   "execution_count": 96,
   "metadata": {},
   "outputs": [],
   "source": [
    "df1 = df.loc[df.radius_mean < percentile_list[0]]\n",
    "df1.to_json('Resources/t1.json')\n",
    "df2 = df.loc[(df.radius_mean >=percentile_list[0])&(df.radius_mean<=percentile_list[1])]\n",
    "df2.to_json('Resources/t2.json')\n",
    "df3 = df.loc[(df.radius_mean >=percentile_list[0])&(df.radius_mean<=percentile_list[1])]\n",
    "df3.to_json('Resources/t3.json')\n",
    "df4 = df.loc[(df.radius_mean >=percentile_list[2])&(df.radius_mean<=percentile_list[3])]\n",
    "df4.to_json('Resources/t4.json')\n",
    "df5 = df.loc[df.radius_mean >percentile_list[3]]\n",
    "df5.to_json('Resources/t5.json')"
   ]
  },
  {
   "cell_type": "code",
   "execution_count": 97,
   "metadata": {},
   "outputs": [],
   "source": [
    "client=MongoClient('mongodb://localhost:27017')\n",
    "db = client['DBCancer']"
   ]
  },
  {
   "cell_type": "code",
   "execution_count": 98,
   "metadata": {},
   "outputs": [],
   "source": [
    "def make_col(jsonName, colName):\n",
    "    col = db[colName]\n",
    "    if col:\n",
    "        col.drop()\n",
    "    with open(jsonName, 'r') as file:\n",
    "        file_data = json.load(file)\n",
    "        if isinstance(file_data, list):\n",
    "            col.insert_many(file_data)\n",
    "        else: col.insert_one(file_data)\n",
    "make_col('Resources/t1.json', 't1')\n",
    "make_col('Resources/t2.json', 't2')\n",
    "make_col('Resources/t3.json', 't3')\n",
    "make_col('Resources/t4.json', 't4')\n",
    "make_col('Resources/t5.json', 't5')"
   ]
  },
  {
   "cell_type": "code",
   "execution_count": 99,
   "metadata": {},
   "outputs": [
    {
     "name": "stdout",
     "output_type": "stream",
     "text": [
      "radius_mean :: {'3': 11.42, '5': 12.45, '9': 12.46, '31': 11.84, '48': 12.05, '50': 11.76, '52': 11.94, '55': 11.52, '64': 12.68, '74': 12.31, '80': 11.45, '84': 12.0, '88': 12.36, '96': 12.18, '98': 11.6, '102': 12.18, '106': 11.64, '107': 12.36, '111': 12.63, '115': 11.93, '120': 11.41, '130': 12.19, '136': 11.71, '137': 11.43, '142': 11.43, '145': 11.9, '146': 11.8, '155': 12.25, '158': 12.06, '160': 11.75, '163': 12.34, '170': 12.32, '183': 11.41, '187': 11.71, '188': 11.81, '189': 12.3, '193': 12.34, '200': 12.23, '204': 12.47, '211': 11.84, '216': 11.89, '228': 12.62, '241': 12.42, '249': 11.52, '251': 11.5, '275': 11.89, '281': 11.74, '285': 12.58, '286': 11.94, '289': 11.37, '293': 11.85, '294': 12.72, '297': 11.76, '301': 12.46, '304': 11.46, '305': 11.6, '310': 11.7, '313': 11.54, '315': 12.49, '316': 12.18, '319': 12.43, '324': 12.2, '325': 12.67, '327': 12.03, '334': 12.3, '344': 11.71, '346': 12.06, '348': 11.47, '349': 11.95, '350': 11.66, '355': 12.56, '360': 12.54, '367': 12.21, '382': 12.05, '383': 12.39, '386': 12.21, '394': 12.1, '399': 11.8, '401': 11.93, '404': 12.34, '409': 12.27, '415': 11.89, '418': 12.7, '420': 11.57, '422': 11.61, '429': 12.72, '431': 12.4, '445': 11.99, '450': 11.87, '452': 12.0, '454': 12.62, '456': 11.63, '463': 11.6, '469': 11.62, '471': 12.04, '473': 12.27, '478': 11.49, '480': 12.16, '485': 12.45, '488': 11.68, '490': 12.25, '493': 12.46, '496': 12.65, '497': 12.47, '502': 12.54, '506': 12.22, '510': 11.74, '527': 12.34, '529': 12.07, '530': 11.75, '531': 11.67, '537': 11.69, '540': 11.54, '559': 11.51}\n"
     ]
    }
   ],
   "source": [
    "data = db.t2.find_one().items()\n",
    "for index,(key,value) in enumerate(data):\n",
    "    if index == 3:\n",
    "        print(key, '::', value)"
   ]
  },
  {
   "cell_type": "code",
   "execution_count": 111,
   "metadata": {},
   "outputs": [
    {
     "ename": "SyntaxError",
     "evalue": "invalid syntax (<ipython-input-111-a01f1887401b>, line 1)",
     "output_type": "error",
     "traceback": [
      "\u001b[1;36m  File \u001b[1;32m\"<ipython-input-111-a01f1887401b>\"\u001b[1;36m, line \u001b[1;32m1\u001b[0m\n\u001b[1;33m    db.t2.find({$and:[{'radius_mean':'3'}, {'radius_mean':'559'}]})\u001b[0m\n\u001b[1;37m                ^\u001b[0m\n\u001b[1;31mSyntaxError\u001b[0m\u001b[1;31m:\u001b[0m invalid syntax\n"
     ]
    }
   ],
   "source": [
    "db.t2.find({$and:[{'radius_mean':'3'}, {'radius_mean':'559'}]})"
   ]
  },
  {
   "cell_type": "code",
   "execution_count": 18,
   "metadata": {},
   "outputs": [
    {
     "name": "stdout",
     "output_type": "stream",
     "text": [
      "1\n"
     ]
    }
   ],
   "source": [
    "def str_count(strng, letter,l):\n",
    "    # Your code here ;)\n",
    "   print(strng.count(letter,l))\n",
    "\n",
    "str_count('hello', 'e',1)"
   ]
  },
  {
   "cell_type": "code",
   "execution_count": null,
   "metadata": {},
   "outputs": [],
   "source": []
  }
 ],
 "metadata": {
  "kernelspec": {
   "display_name": "Python 3",
   "language": "python",
   "name": "python3"
  },
  "language_info": {
   "codemirror_mode": {
    "name": "ipython",
    "version": 3
   },
   "file_extension": ".py",
   "mimetype": "text/x-python",
   "name": "python",
   "nbconvert_exporter": "python",
   "pygments_lexer": "ipython3",
   "version": "3.8.5"
  }
 },
 "nbformat": 4,
 "nbformat_minor": 4
}
