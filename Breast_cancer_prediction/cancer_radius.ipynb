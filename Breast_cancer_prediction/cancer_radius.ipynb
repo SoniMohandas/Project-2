{
 "cells": [
  {
   "cell_type": "code",
   "execution_count": 10,
   "metadata": {},
   "outputs": [
    {
     "data": {
      "text/plain": [
       "Index(['id', 'diagnosis', 'radius_mean', 'texture_mean', 'perimeter_mean',\n",
       "       'area_mean', 'smoothness_mean', 'compactness_mean', 'concavity_mean',\n",
       "       'concave points_mean', 'symmetry_mean', 'fractal_dimension_mean',\n",
       "       'radius_se', 'texture_se', 'perimeter_se', 'area_se', 'smoothness_se',\n",
       "       'compactness_se', 'concavity_se', 'concave points_se', 'symmetry_se',\n",
       "       'fractal_dimension_se', 'radius_worst', 'texture_worst',\n",
       "       'perimeter_worst', 'area_worst', 'smoothness_worst',\n",
       "       'compactness_worst', 'concavity_worst', 'concave points_worst',\n",
       "       'symmetry_worst', 'fractal_dimension_worst', 'Unnamed: 32'],\n",
       "      dtype='object')"
      ]
     },
     "execution_count": 10,
     "metadata": {},
     "output_type": "execute_result"
    }
   ],
   "source": [
    "# Dependencies\n",
    "from pymongo import MongoClient\n",
    "import matplotlib.pyplot as plt\n",
    "import pandas as pd\n",
    "import numpy as np\n",
    "# import pymongo\n",
    "import json\n",
    "\n",
    "# Data path\n",
    "data_path=\"Resources/data.csv\"\n",
    "\n",
    "# Read csv file load into a dataframe\n",
    "tumor_df = pd.read_csv(data_path, delimiter=\",\")\n",
    "tumor_df.columns"
   ]
  },
  {
   "cell_type": "code",
   "execution_count": 11,
   "metadata": {},
   "outputs": [
    {
     "name": "stdout",
     "output_type": "stream",
     "text": [
      "569\n"
     ]
    }
   ],
   "source": [
    "# Deleting column with no values\n",
    "tumor_df.drop(columns=['Unnamed: 32'], inplace=True)\n",
    "print(len(tumor_df))"
   ]
  },
  {
   "cell_type": "code",
   "execution_count": 12,
   "metadata": {},
   "outputs": [
    {
     "data": {
      "text/plain": [
       "array([[<AxesSubplot:title={'center':'radius_mean'}>]], dtype=object)"
      ]
     },
     "execution_count": 12,
     "metadata": {},
     "output_type": "execute_result"
    },
    {
     "data": {
      "image/png": "[encoded data removed]",
      "text/plain": [
       "<Figure size 432x288 with 1 Axes>"
      ]
     },
     "metadata": {
      "needs_background": "light"
     },
     "output_type": "display_data"
    }
   ],
   "source": [
    "# Initial visualization to understand the data\n",
    "tumor_df.hist(\"radius_mean\")"
   ]
  },
  {
   "cell_type": "code",
   "execution_count": 13,
   "metadata": {
    "tags": []
   },
   "outputs": [
    {
     "data": {
      "text/plain": [
       "[11.366, 12.726, 14.058000000000002, 17.067999999999998, 28.11]"
      ]
     },
     "execution_count": 13,
     "metadata": {},
     "output_type": "execute_result"
    }
   ],
   "source": [
    "# Calculating percentiles to divide the csv files into five csv files.\n",
    "percent_list=list(np.percentile(tumor_df.radius_mean,[20,40,60,80,100]))\n",
    "percent_list"
   ]
  },
  {
   "cell_type": "code",
   "execution_count": 14,
   "metadata": {},
   "outputs": [],
   "source": [
    "# Create csv files based on the percentiles\n",
    "df1=tumor_df.loc[tumor_df.radius_mean<percent_list[0]]\n",
    "df1.to_csv(r\"Resources\\tumor1.csv\", index=False)\n",
    "\n",
    "df2=tumor_df.loc[(tumor_df.radius_mean>=percent_list[0]) & (tumor_df.radius_mean<percent_list[1])]\n",
    "df2.to_csv(r\"Resources\\tumor2.csv\", index=False)\n",
    "\n",
    "df3=tumor_df.loc[(tumor_df.radius_mean>=percent_list[1]) & (tumor_df.radius_mean<percent_list[2])]\n",
    "df3.to_csv(r\"Resources\\tumor3.csv\", index=False)\n",
    "\n",
    "df4=tumor_df.loc[(tumor_df.radius_mean>=percent_list[2]) & (tumor_df.radius_mean<percent_list[3])]\n",
    "df4.to_csv(r\"Resources\\tumor4.csv\",index=False)\n",
    "\n",
    "df5=tumor_df.loc[tumor_df.radius_mean>=percent_list[3]]\n",
    "df5.to_csv(r\"Resources\\tumor5.csv\",index=False)"
   ]
  },
  {
   "cell_type": "code",
   "execution_count": 15,
   "metadata": {},
   "outputs": [],
   "source": [
    "# Function to create json files\n",
    "def createJson(csvName, jsonName):    \n",
    "    \n",
    "    # loading csv files to dataframe\n",
    "    df1 = pd.read_csv(csvName, encoding = 'ISO-8859-1')\n",
    "\n",
    "    # saving dataframe to json file\n",
    "    df1.to_json(jsonName)\n",
    "    \n",
    "# Call function to create json files    \n",
    "createJson(\"Resources/tumor1.csv\", \"Resources/tumor1.json\")\n",
    "createJson(\"Resources/tumor2.csv\", \"Resources/tumor2.json\")\n",
    "createJson(\"Resources/tumor3.csv\", \"Resources/tumor3.json\")\n",
    "createJson(\"Resources/tumor4.csv\", \"Resources/tumor4.json\")\n",
    "createJson(\"Resources/tumor5.csv\", \"Resources/tumor5.json\")"
   ]
  },
  {
   "cell_type": "code",
   "execution_count": 16,
   "metadata": {},
   "outputs": [],
   "source": [
    "# Connect to mongodb\n",
    "myclient = MongoClient(\"mongodb://localhost:27017\")\n",
    "\n",
    "# create new database name: BreastCancer_DB\n",
    "db = myclient[\"BreastCancer_DB\"]"
   ]
  },
  {
   "cell_type": "code",
   "execution_count": 17,
   "metadata": {},
   "outputs": [],
   "source": [
    "# Function to load json files into Mongo database\n",
    "def createDB(jsonName, collName):\n",
    "    \n",
    "    # Create or Switch to collection name\n",
    "    Col = db[collName]\n",
    "\n",
    "    # Dropping collection if exists to avoid duplication\n",
    "    if Col:\n",
    "        Col.drop()\n",
    "\n",
    "    # Loading or Opening the json file\n",
    "    with open(jsonName, 'r') as file:\n",
    "        file_data = json.load(file)\n",
    "\n",
    "    # Inserting the loaded file to the Collection\n",
    "    # if JSON contains data more than one entry\n",
    "    # use 'insert_many' else use 'insert_one'\n",
    "    if isinstance(file_data, list):\n",
    "        Col.insert_many(file_data)  \n",
    "    else:\n",
    "        Col.insert_one(file_data)\n",
    "\n",
    "# Function call to create collections in Mongo database\n",
    "createDB(\"Resources/tumor1.json\", \"tumor1\")\n",
    "createDB(\"Resources/tumor2.json\", \"tumor2\")\n",
    "createDB(\"Resources/tumor3.json\", \"tumor3\")\n",
    "createDB(\"Resources/tumor4.json\", \"tumor4\")\n",
    "createDB(\"Resources/tumor5.json\", \"tumor5\")"
   ]
  },
  {
   "cell_type": "code",
   "execution_count": 19,
   "metadata": {},
   "outputs": [
    {
     "name": "stdout",
     "output_type": "stream",
     "text": [
      "concave points_mean :: {'0': 0.1052, '1': 0.08089, '2': 0.08543, '3': 0.05182, '4': 0.02749, '5': 0.01115, '6': 0.01349, '7': 0.02278, '8': 0.06873, '9': 0.02272, '10': 0.02233, '11': 0.01863, '12': 0.03745, '13': 0.02941, '14': 0.0335, '15': 0.0177, '16': 0.03485, '17': 0.01921, '18': 0.06021, '19': 0.02008, '20': 0.02623, '21': 0.02882, '22': 0.026, '23': 0.02875, '24': 0.01861, '25': 0.03003, '26': 0.07415, '27': 0.02331, '28': 0.01963, '29': 0.03738, '30': 0.02822, '31': 0.037, '32': 0.02361, '33': 0.03239, '34': 0.01553, '35': 0.01654, '36': 0.04562, '37': 0.04107, '38': 0.03821, '39': 0.01393, '40': 0.03142, '41': 0.02036, '42': 0.01108, '43': 0.02929, '44': 0.02069, '45': 0.07404, '46': 0.02763, '47': 0.002924, '48': 0.03791, '49': 0.02173, '50': 0.0228, '51': 0.01924, '52': 0.03515, '53': 0.03099, '54': 0.01502, '55': 0.01313, '56': 0.01148, '57': 0.008907, '58': 0.006423, '59': 0.005051, '60': 0.01699, '61': 0.01692, '62': 0.02107, '63': 0.005592, '64': 0.008535, '65': 0.0325, '66': 0.008488, '67': 0.02322, '68': 0.01787, '69': 0.01162, '70': 0.04391, '71': 0.005449, '72': 0.02027, '73': 0.02978, '74': 0.0288, '75': 0.02534, '76': 0.03326, '77': 0.01638, '78': 0.01796, '79': 0.02054, '80': 0.02653, '81': 0.02179, '82': 0.02402, '83': 0.01428, '84': 0.04497, '85': 0.01835, '86': 0.02799, '87': 0.04274, '88': 0.02386, '89': 0.01945, '90': 0.02272, '91': 0.02017, '92': 0.01777, '93': 0.05564, '94': 0.02377, '95': 0.0, '96': 0.01969, '97': 0.01527, '98': 0.04846, '99': 0.03132, '100': 0.01261, '101': 0.01149, '102': 0.05074, '103': 0.02369, '104': 0.03279, '105': 0.02166, '106': 0.02639, '107': 0.02647, '108': 0.02798, '109': 0.0444, '110': 0.02157, '111': 0.04531, '112': 0.02594, '113': 0.04105}\n"
     ]
    }
   ],
   "source": [
    "t2 = db.get_collection(\"tumor2\")\n",
    "for index, (key, value) in enumerate(t2.find_one().items()):\n",
    "    if index == 10:\n",
    "        print(key, '::', value)\n",
    "        break\n"
   ]
  },
  {
   "cell_type": "code",
   "execution_count": null,
   "metadata": {},
   "outputs": [],
   "source": []
  }
 ],
 "metadata": {
  "kernelspec": {
   "display_name": "Python 3",
   "language": "python",
   "name": "python3"
  },
  "language_info": {
   "codemirror_mode": {
    "name": "ipython",
    "version": 3
   },
   "file_extension": ".py",
   "mimetype": "text/x-python",
   "name": "python",
   "nbconvert_exporter": "python",
   "pygments_lexer": "ipython3",
   "version": "3.8.5"
  }
 },
 "nbformat": 4,
 "nbformat_minor": 4
}
