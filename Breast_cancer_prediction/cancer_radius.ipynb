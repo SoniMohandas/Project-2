{
 "cells": [
  {
   "cell_type": "code",
   "execution_count": 2,
   "metadata": {},
   "outputs": [
    {
     "data": {
      "text/plain": [
       "Index(['id', 'diagnosis', 'radius_mean', 'texture_mean', 'perimeter_mean',\n",
       "       'area_mean', 'smoothness_mean', 'compactness_mean', 'concavity_mean',\n",
       "       'concave points_mean', 'symmetry_mean', 'fractal_dimension_mean',\n",
       "       'radius_se', 'texture_se', 'perimeter_se', 'area_se', 'smoothness_se',\n",
       "       'compactness_se', 'concavity_se', 'concave points_se', 'symmetry_se',\n",
       "       'fractal_dimension_se', 'radius_worst', 'texture_worst',\n",
       "       'perimeter_worst', 'area_worst', 'smoothness_worst',\n",
       "       'compactness_worst', 'concavity_worst', 'concave points_worst',\n",
       "       'symmetry_worst', 'fractal_dimension_worst', 'Unnamed: 32'],\n",
       "      dtype='object')"
      ]
     },
     "execution_count": 2,
     "metadata": {},
     "output_type": "execute_result"
    }
   ],
   "source": [
    "# Dependencies\n",
    "from pymongo import MongoClient\n",
    "import matplotlib.pyplot as plt\n",
    "import pandas as pd\n",
    "import numpy as np\n",
    "import pymongo\n",
    "import json\n",
    "\n",
    "# Data path\n",
    "data_path=\"Resources/data.csv\"\n",
    "\n",
    "# Read csv file load into a dataframe\n",
    "tumor_df = pd.read_csv(data_path, delimiter=\",\")\n",
    "tumor_df.columns"
   ]
  },
  {
   "cell_type": "code",
   "execution_count": 3,
   "metadata": {},
   "outputs": [
    {
     "name": "stdout",
     "output_type": "stream",
     "text": [
      "569\n"
     ]
    }
   ],
   "source": [
    "# Deleting column with no values\n",
    "tumor_df.drop(columns=['Unnamed: 32'], inplace=True)\n",
    "print(len(tumor_df))"
   ]
  },
  {
   "cell_type": "code",
   "execution_count": 4,
   "metadata": {},
   "outputs": [
    {
     "data": {
      "text/plain": [
       "array([[<AxesSubplot:title={'center':'radius_mean'}>]], dtype=object)"
      ]
     },
     "execution_count": 4,
     "metadata": {},
     "output_type": "execute_result"
    },
    {
     "data": {
      "image/png": "[encoded data removed]",
      "text/plain": [
       "<Figure size 432x288 with 1 Axes>"
      ]
     },
     "metadata": {
      "needs_background": "light"
     },
     "output_type": "display_data"
    }
   ],
   "source": [
    "# Initial visualization to understand the data\n",
    "tumor_df.hist(\"radius_mean\")"
   ]
  },
  {
   "cell_type": "code",
   "execution_count": 5,
   "metadata": {
    "tags": []
   },
   "outputs": [
    {
     "data": {
      "text/plain": [
       "[11.366, 12.726, 14.058000000000002, 17.067999999999998, 28.11]"
      ]
     },
     "execution_count": 5,
     "metadata": {},
     "output_type": "execute_result"
    }
   ],
   "source": [
    "# Calculating percentiles to divide the csv files into five csv files.\n",
    "percent_list=list(np.percentile(tumor_df.radius_mean,[20,40,60,80,100]))\n",
    "percent_list"
   ]
  },
  {
   "cell_type": "code",
   "execution_count": 6,
   "metadata": {},
   "outputs": [],
   "source": [
    "# Create csv files based on the percentiles\n",
    "df1=tumor_df.loc[tumor_df.radius_mean<percent_list[0]]\n",
    "df1.to_csv(r\"Resources\\tumor1.csv\", index=False)\n",
    "\n",
    "df2=tumor_df.loc[(tumor_df.radius_mean>=percent_list[0]) & (tumor_df.radius_mean<percent_list[1])]\n",
    "df2.to_csv(r\"Resources\\tumor2.csv\", index=False)\n",
    "\n",
    "df3=tumor_df.loc[(tumor_df.radius_mean>=percent_list[1]) & (tumor_df.radius_mean<percent_list[2])]\n",
    "df3.to_csv(r\"Resources\\tumor3.csv\", index=False)\n",
    "\n",
    "df4=tumor_df.loc[(tumor_df.radius_mean>=percent_list[2]) & (tumor_df.radius_mean<percent_list[3])]\n",
    "df4.to_csv(r\"Resources\\tumor4.csv\",index=False)\n",
    "\n",
    "df5=tumor_df.loc[tumor_df.radius_mean>=percent_list[3]]\n",
    "df5.to_csv(r\"Resources\\tumor5.csv\",index=False)"
   ]
  },
  {
   "cell_type": "code",
   "execution_count": 7,
   "metadata": {},
   "outputs": [],
   "source": [
    "# Function to create json files\n",
    "def createJson(csvName, jsonName):    \n",
    "    \n",
    "    # loading csv files to dataframe\n",
    "    df1 = pd.read_csv(csvName, encoding = 'ISO-8859-1')\n",
    "\n",
    "    # saving dataframe to json file\n",
    "    df1.to_json(jsonName)\n",
    "    \n",
    "# Call function to create json files    \n",
    "createJson(\"Resources/tumor1.csv\", \"Resources/tumor1.json\")\n",
    "createJson(\"Resources/tumor2.csv\", \"Resources/tumor2.json\")\n",
    "createJson(\"Resources/tumor3.csv\", \"Resources/tumor3.json\")\n",
    "createJson(\"Resources/tumor4.csv\", \"Resources/tumor4.json\")\n",
    "createJson(\"Resources/tumor5.csv\", \"Resources/tumor5.json\")"
   ]
  },
  {
   "cell_type": "code",
   "execution_count": 8,
   "metadata": {},
   "outputs": [],
   "source": [
    "# Connect to mongodb\n",
    "myclient = MongoClient(\"mongodb://localhost:27017\")\n",
    "\n",
    "# create new database name: BreastCancer_DB\n",
    "db = myclient[\"BreastCancer_DB\"]"
   ]
  },
  {
   "cell_type": "code",
   "execution_count": 9,
   "metadata": {},
   "outputs": [],
   "source": [
    "# Function to load json files into Mongo database\n",
    "def createDB(jsonName, collName):\n",
    "    \n",
    "    # Create or Switch to collection name\n",
    "    Col = db[collName]\n",
    "\n",
    "    # Dropping collection if exists to avoid duplication\n",
    "    Col.drop()\n",
    "\n",
    "    # Loading or Opening the json file\n",
    "    with open(jsonName, 'r') as file:\n",
    "        file_data = json.load(file)\n",
    "\n",
    "    # Inserting the loaded file to the Collection\n",
    "    # if JSON contains data more than one entry\n",
    "    # use 'insert_many' else use 'insert_one'\n",
    "    if isinstance(file_data, list):\n",
    "        Col.insert_many(file_data)  \n",
    "    else:\n",
    "        Col.insert_one(file_data)\n",
    "\n",
    "# Function call to create collections in Mongo database\n",
    "createDB(\"Resources/tumor1.json\", \"tumor1\")\n",
    "createDB(\"Resources/tumor2.json\", \"tumor2\")\n",
    "createDB(\"Resources/tumor3.json\", \"tumor3\")\n",
    "createDB(\"Resources/tumor4.json\", \"tumor4\")\n",
    "createDB(\"Resources/tumor5.json\", \"tumor5\")"
   ]
  },
  {
   "cell_type": "code",
   "execution_count": 24,
   "metadata": {},
   "outputs": [
    {
     "name": "stdout",
     "output_type": "stream",
     "text": [
      "area_mean :: {'0': 386.1, '1': 477.1, '2': 475.9, '3': 440.6, '4': 449.3, '5': 427.9, '6': 437.6, '7': 409.0, '8': 499.0, '9': 470.9, '10': 401.5, '11': 443.3, '12': 466.1, '13': 451.1, '14': 412.6, '15': 458.7, '16': 412.5, '17': 466.7, '18': 480.4, '19': 438.6, '20': 403.3, '21': 455.8, '22': 423.6, '23': 399.8, '24': 398.0, '25': 432.8, '26': 432.0, '27': 460.3, '28': 448.6, '29': 419.8, '30': 464.5, '31': 464.1, '32': 402.0, '33': 420.3, '34': 428.9, '35': 463.7, '36': 477.4, '37': 461.0, '38': 481.9, '39': 428.0, '40': 432.2, '41': 496.4, '42': 476.5, '43': 406.3, '44': 407.4, '45': 435.6, '46': 427.3, '47': 489.0, '48': 441.0, '49': 396.0, '50': 432.7, '51': 492.1, '52': 431.1, '53': 471.3, '54': 403.1, '55': 417.2, '56': 418.7, '57': 409.1, '58': 481.6, '59': 461.4, '60': 477.3, '61': 457.9, '62': 489.9, '63': 446.0, '64': 464.4, '65': 420.3, '66': 445.3, '67': 402.7, '68': 426.7, '69': 421.0, '70': 485.8, '71': 491.9, '72': 458.4, '73': 447.8, '74': 462.9, '75': 462.0, '76': 446.2, '77': 431.9, '78': 442.7, '79': 469.1, '80': 466.1, '81': 433.8, '82': 495.0, '83': 409.7, '84': 408.2, '85': 501.3, '86': 467.8, '87': 441.3, '88': 432.0, '89': 442.5, '90': 492.9, '91': 415.1, '92': 412.7, '93': 408.8, '94': 449.9, '95': 465.4, '96': 404.9, '97': 455.3, '98': 476.7, '99': 420.5, '100': 466.5, '101': 477.3, '102': 485.6, '103': 480.1, '104': 476.3, '105': 453.1, '106': 426.0, '107': 468.5, '108': 445.2, '109': 422.9, '110': 416.2, '111': 406.4, '112': 402.9, '113': 403.5}\n"
     ]
    }
   ],
   "source": [
    "t2 = db.get_collection(\"tumor2\")\n",
    "for index, (key, value) in enumerate(t2.find_one().items()):\n",
    "    if index == 6:\n",
    "        print(key, '::', value)\n",
    "        break"
   ]
  },
  {
   "cell_type": "code",
   "execution_count": null,
   "metadata": {},
   "outputs": [],
   "source": [
    "\n"
   ]
  },
  {
   "cell_type": "code",
   "execution_count": null,
   "metadata": {},
   "outputs": [],
   "source": []
  }
 ],
 "metadata": {
  "kernelspec": {
   "display_name": "Python 3",
   "language": "python",
   "name": "python3"
  },
  "language_info": {
   "codemirror_mode": {
    "name": "ipython",
    "version": 3
   },
   "file_extension": ".py",
   "mimetype": "text/x-python",
   "name": "python",
   "nbconvert_exporter": "python",
   "pygments_lexer": "ipython3",
   "version": "3.8.5"
  }
 },
 "nbformat": 4,
 "nbformat_minor": 4
}
